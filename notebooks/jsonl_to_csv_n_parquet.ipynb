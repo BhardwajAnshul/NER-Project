{
 "cells": [
  {
   "cell_type": "code",
   "execution_count": 10,
   "id": "cce58d2b-8ff8-4fbc-8fbb-78d4b98ba5b1",
   "metadata": {},
   "outputs": [],
   "source": [
    "import json\n",
    "import pandas as pd\n",
    "from tqdm import tqdm"
   ]
  },
  {
   "cell_type": "code",
   "execution_count": 2,
   "id": "5de4c5be-9598-4ae7-978e-2b9090862f0e",
   "metadata": {},
   "outputs": [],
   "source": [
    "import json\n",
    "with open(\"WIESP2022-NER-TRAINING.jsonl\", 'r') as f:\n",
    "    wiesp_dev_json = [json.loads(l) for l in list(f)]"
   ]
  },
  {
   "cell_type": "code",
   "execution_count": 3,
   "id": "8114117c-a7a0-428e-94d1-7aad961c60e9",
   "metadata": {},
   "outputs": [],
   "source": [
    "columns = list(wiesp_dev_json[0].keys())"
   ]
  },
  {
   "cell_type": "code",
   "execution_count": 4,
   "id": "2393ff82-659b-4e4e-a831-4dc9707c2fcf",
   "metadata": {},
   "outputs": [
    {
     "data": {
      "text/plain": [
       "['bibcode',\n",
       " 'label_studio_id',\n",
       " 'ner_ids',\n",
       " 'ner_tags',\n",
       " 'section',\n",
       " 'tokens',\n",
       " 'unique_id']"
      ]
     },
     "execution_count": 4,
     "metadata": {},
     "output_type": "execute_result"
    }
   ],
   "source": [
    "columns"
   ]
  },
  {
   "cell_type": "code",
   "execution_count": 6,
   "id": "79f6a7d3-ed72-4e0d-9675-d9b4d893ba94",
   "metadata": {},
   "outputs": [
    {
     "name": "stdout",
     "output_type": "stream",
     "text": [
      "19\n",
      "error:may be not a list\n",
      "536\n",
      "536\n",
      "8\n",
      "536\n",
      "32\n"
     ]
    }
   ],
   "source": [
    "for x in columns:\n",
    "  #print(x)\n",
    "  try:\n",
    "    print(len(wiesp_dev_json[0][x]))\n",
    "  except:\n",
    "    print('error:may be not a list')\n",
    "    pass\n"
   ]
  },
  {
   "cell_type": "code",
   "execution_count": 8,
   "id": "96937336-d815-44a3-a505-a3814fae74d3",
   "metadata": {},
   "outputs": [],
   "source": [
    "df = pd.DataFrame(columns = columns)"
   ]
  },
  {
   "cell_type": "code",
   "execution_count": 9,
   "id": "cb519848-ba5f-46cb-9298-0962306685b3",
   "metadata": {},
   "outputs": [],
   "source": [
    "for row in tqdm(wiesp_dev_json):\n",
    "  df = df.append(pd.DataFrame(row))"
   ]
  },
  {
   "cell_type": "code",
   "execution_count": 12,
   "id": "d7c16243-b1e5-4c1b-bf20-cfe795b52095",
   "metadata": {},
   "outputs": [],
   "source": [
    "df.to_csv('WIESP2022-NER-TRAINING.csv', index=False)"
   ]
  },
  {
   "cell_type": "code",
   "execution_count": 14,
   "id": "fedbbe6b-471a-4dba-a45b-2cf274afcaaa",
   "metadata": {},
   "outputs": [],
   "source": [
    "df.to_parquet('WIESP2022-NER-TRAINING.parquet', index=False)"
   ]
  },
  {
   "cell_type": "code",
   "execution_count": 15,
   "id": "6bd6e35a-4565-4b03-a315-1d713381d6db",
   "metadata": {},
   "outputs": [],
   "source": [
    "import json\n",
    "with open(\"WIESP2022-NER-DEV.jsonl\", 'r') as f:\n",
    "    wiesp_dev_json = [json.loads(l) for l in list(f)]"
   ]
  },
  {
   "cell_type": "code",
   "execution_count": 18,
   "id": "f3c6ae61-e793-49d0-8411-9919abc8bd79",
   "metadata": {},
   "outputs": [
    {
     "data": {
      "text/plain": [
       "['bibcode',\n",
       " 'label_studio_id',\n",
       " 'ner_ids',\n",
       " 'ner_tags',\n",
       " 'section',\n",
       " 'tokens',\n",
       " 'unique_id']"
      ]
     },
     "execution_count": 18,
     "metadata": {},
     "output_type": "execute_result"
    }
   ],
   "source": [
    "columns = list(wiesp_dev_json[0].keys())\n",
    "columns"
   ]
  },
  {
   "cell_type": "code",
   "execution_count": 19,
   "id": "f07fad7c-d76a-4da9-a3e2-39bd8a89c58f",
   "metadata": {},
   "outputs": [
    {
     "name": "stdout",
     "output_type": "stream",
     "text": [
      "19\n",
      "error:may be not a list\n",
      "536\n",
      "536\n",
      "8\n",
      "536\n",
      "32\n"
     ]
    }
   ],
   "source": [
    "for x in columns:\n",
    "  #print(x)\n",
    "  try:\n",
    "    print(len(wiesp_dev_json[0][x]))\n",
    "  except:\n",
    "    print('error:may be not a list')\n",
    "    pass\n"
   ]
  },
  {
   "cell_type": "code",
   "execution_count": 20,
   "id": "afbcf7cc-e709-4837-b147-9a92380b79e0",
   "metadata": {},
   "outputs": [
    {
     "name": "stderr",
     "output_type": "stream",
     "text": [
      "100%|██████████| 20/20 [00:00<00:00, 472.50it/s]\n"
     ]
    }
   ],
   "source": [
    "df = pd.DataFrame(columns = columns)\n",
    "for row in tqdm(wiesp_dev_json):\n",
    "  df = df.append(pd.DataFrame(row))"
   ]
  },
  {
   "cell_type": "code",
   "execution_count": 21,
   "id": "259123c7-95eb-4e9e-a632-77f12d93939a",
   "metadata": {},
   "outputs": [],
   "source": [
    "df.to_csv('WIESP2022-NER-DEV.csv', index=False)\n",
    "df.to_parquet('WIESP2022-NER-DEV.parquet', index=False)"
   ]
  },
  {
   "cell_type": "code",
   "execution_count": 22,
   "id": "4649bbe8-34dd-4b62-b77d-eb27e3bcb19c",
   "metadata": {},
   "outputs": [],
   "source": [
    "import json\n",
    "with open(\"WIESP2022-NER-VALIDATION-NO-LABELS.jsonl\", 'r') as f:\n",
    "    wiesp_dev_json = [json.loads(l) for l in list(f)]"
   ]
  },
  {
   "cell_type": "code",
   "execution_count": 23,
   "id": "95019e8a-24c1-4956-b705-f537ed061a50",
   "metadata": {},
   "outputs": [
    {
     "data": {
      "text/plain": [
       "['bibcode', 'label_studio_id', 'section', 'tokens', 'unique_id']"
      ]
     },
     "execution_count": 23,
     "metadata": {},
     "output_type": "execute_result"
    }
   ],
   "source": [
    "columns = list(wiesp_dev_json[0].keys())\n",
    "columns"
   ]
  },
  {
   "cell_type": "code",
   "execution_count": 24,
   "id": "a7bc21ca-ec46-40b6-b86b-21c86494f269",
   "metadata": {},
   "outputs": [
    {
     "name": "stdout",
     "output_type": "stream",
     "text": [
      "19\n",
      "error:may be not a list\n",
      "8\n",
      "502\n",
      "33\n"
     ]
    }
   ],
   "source": [
    "for x in columns:\n",
    "  #print(x)\n",
    "  try:\n",
    "    print(len(wiesp_dev_json[0][x]))\n",
    "  except:\n",
    "    print('error:may be not a list')\n",
    "    pass\n"
   ]
  },
  {
   "cell_type": "code",
   "execution_count": 25,
   "id": "2698b9af-a2a1-4c34-8ecc-dc1f5ab94ca8",
   "metadata": {},
   "outputs": [
    {
     "name": "stderr",
     "output_type": "stream",
     "text": [
      "100%|██████████| 1366/1366 [00:15<00:00, 86.89it/s]\n"
     ]
    }
   ],
   "source": [
    "df = pd.DataFrame(columns = columns)\n",
    "for row in tqdm(wiesp_dev_json):\n",
    "  df = df.append(pd.DataFrame(row))"
   ]
  },
  {
   "cell_type": "code",
   "execution_count": 26,
   "id": "4311fd1a-ef96-4b49-bb30-9e2f52a28969",
   "metadata": {},
   "outputs": [],
   "source": [
    "df.to_csv('WIESP2022-NER-VALIDATION.csv', index=False)\n",
    "df.to_parquet('WIESP2022-NER-VALIDATION.parquet', index=False)"
   ]
  },
  {
   "cell_type": "code",
   "execution_count": null,
   "id": "67319b21-bbac-4e1f-b833-333268b1df5e",
   "metadata": {},
   "outputs": [],
   "source": []
  }
 ],
 "metadata": {
  "kernelspec": {
   "display_name": "Python 3",
   "language": "python",
   "name": "python3"
  },
  "language_info": {
   "codemirror_mode": {
    "name": "ipython",
    "version": 3
   },
   "file_extension": ".py",
   "mimetype": "text/x-python",
   "name": "python",
   "nbconvert_exporter": "python",
   "pygments_lexer": "ipython3",
   "version": "3.7.10"
  }
 },
 "nbformat": 4,
 "nbformat_minor": 5
}
