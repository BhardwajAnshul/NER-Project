{
 "cells": [
  {
   "cell_type": "code",
   "execution_count": 164,
   "id": "dbecd1f4-e475-47e4-b3bb-134a055d3aed",
   "metadata": {},
   "outputs": [],
   "source": [
    "import pandas as pd"
   ]
  },
  {
   "cell_type": "code",
   "execution_count": 165,
   "id": "74154d8f-ad2d-4f3c-add4-fe621b262596",
   "metadata": {},
   "outputs": [],
   "source": [
    "df = pd.read_parquet('https://github.com/BhardwajAnshul/NER-Project/blob/main/WIESP_TRAINING_SPLITTED.parquet?raw=true')"
   ]
  },
  {
   "cell_type": "code",
   "execution_count": 166,
   "id": "c2aa1b25-baeb-4fc6-9097-d7a2aee73aae",
   "metadata": {},
   "outputs": [],
   "source": [
    "#replces hyphan with \" \"\n",
    "def replace_hyphan(value):\n",
    "    return value.replace('-', ' ').strip()\n",
    "\n",
    "#puts spaces around certain characters in token. eg. a(b will become a ( b\n",
    "chars = '(),.:;/[]\"='\n",
    "def put_space_around_chars(value):\n",
    "    for char in chars:\n",
    "        value =  value.replace(char, f' {char} ')\n",
    "    return value.strip()\n",
    "\n",
    "# checks if a token has number in it.\n",
    "def containsNumber(value):\n",
    "    for character in value:\n",
    "        if character.isdigit():\n",
    "            return True\n",
    "    return False\n",
    "\n",
    "# check if a token is Year. Year range : 1900 to 2030\n",
    "def isYear(value):\n",
    "    value = value.replace('-', '').strip()\n",
    "    if value.isdigit():\n",
    "        if 1900<=int(value)<=2030:\n",
    "            return True\n",
    "    return False"
   ]
  },
  {
   "cell_type": "code",
   "execution_count": 167,
   "id": "e55ae40e-e37b-461d-90b1-e01c8209c3a6",
   "metadata": {},
   "outputs": [],
   "source": [
    "df['tokens'] = [replace_hyphan(word) for word in df.tokens]\n",
    "df['tokens'] = [put_space_around_chars(word) for word in df.tokens]\n",
    "df[\"tokens\"] = df[\"tokens\"].str.split(\" \")\n",
    "df = df.explode(\"tokens\").reset_index(drop=True)\n",
    "df['tokens'] = ['<YEAR>' if isYear(word) else word for word in df.tokens]\n",
    "df['tokens'] = ['<NUM>' if containsNumber(word) else word for word in df.tokens]"
   ]
  },
  {
   "cell_type": "code",
   "execution_count": 169,
   "id": "34824f07-0542-407a-9c98-aa0a2c01ab02",
   "metadata": {},
   "outputs": [],
   "source": [
    "df.to_csv('WIESP_TRAINING_SPLITTED.parquet.csv', index=False)"
   ]
  },
  {
   "cell_type": "code",
   "execution_count": 170,
   "id": "c83a85ca-fd99-4063-bca1-356c53ed9129",
   "metadata": {},
   "outputs": [],
   "source": [
    "df.to_parquet('WIESP_TRAINING_PREPROCESSED.parquet', index=False)"
   ]
  },
  {
   "cell_type": "code",
   "execution_count": 163,
   "id": "3e963b11-c739-441d-98fa-4ba800197b09",
   "metadata": {},
   "outputs": [
    {
     "data": {
      "text/plain": [
       "{'B-Archive',\n",
       " 'B-CelestialObject',\n",
       " 'B-CelestialObjectRegion',\n",
       " 'B-CelestialRegion',\n",
       " 'B-Citation',\n",
       " 'B-Collaboration',\n",
       " 'B-ComputingFacility',\n",
       " 'B-Database',\n",
       " 'B-Dataset',\n",
       " 'B-EntityOfFutureInterest',\n",
       " 'B-Event',\n",
       " 'B-Fellowship',\n",
       " 'B-Formula',\n",
       " 'B-Grant',\n",
       " 'B-Identifier',\n",
       " 'B-Instrument',\n",
       " 'B-Location',\n",
       " 'B-Mission',\n",
       " 'B-Model',\n",
       " 'B-ObservationalTechniques',\n",
       " 'B-Observatory',\n",
       " 'B-Organization',\n",
       " 'B-Person',\n",
       " 'B-Proposal',\n",
       " 'B-Software',\n",
       " 'B-Survey',\n",
       " 'B-Tag',\n",
       " 'B-Telescope',\n",
       " 'B-TextGarbage',\n",
       " 'B-URL',\n",
       " 'B-Wavelength',\n",
       " 'I-Archive',\n",
       " 'I-CelestialObject',\n",
       " 'I-CelestialObjectRegion',\n",
       " 'I-CelestialRegion',\n",
       " 'I-Citation',\n",
       " 'I-Collaboration',\n",
       " 'I-ComputingFacility',\n",
       " 'I-Database',\n",
       " 'I-Dataset',\n",
       " 'I-EntityOfFutureInterest',\n",
       " 'I-Event',\n",
       " 'I-Fellowship',\n",
       " 'I-Formula',\n",
       " 'I-Grant',\n",
       " 'I-Identifier',\n",
       " 'I-Instrument',\n",
       " 'I-Location',\n",
       " 'I-Mission',\n",
       " 'I-Model',\n",
       " 'I-ObservationalTechniques',\n",
       " 'I-Observatory',\n",
       " 'I-Organization',\n",
       " 'I-Person',\n",
       " 'I-Proposal',\n",
       " 'I-Software',\n",
       " 'I-Survey',\n",
       " 'I-Tag',\n",
       " 'I-Telescope',\n",
       " 'I-TextGarbage',\n",
       " 'I-URL',\n",
       " 'I-Wavelength',\n",
       " 'O'}"
      ]
     },
     "execution_count": 163,
     "metadata": {},
     "output_type": "execute_result"
    }
   ],
   "source": [
    "set(df.ner_tags)"
   ]
  },
  {
   "cell_type": "code",
   "execution_count": null,
   "id": "cf6443d9-183c-40c9-bbc0-5f9e4833d78b",
   "metadata": {},
   "outputs": [],
   "source": []
  }
 ],
 "metadata": {
  "kernelspec": {
   "display_name": "Python 3",
   "language": "python",
   "name": "python3"
  },
  "language_info": {
   "codemirror_mode": {
    "name": "ipython",
    "version": 3
   },
   "file_extension": ".py",
   "mimetype": "text/x-python",
   "name": "python",
   "nbconvert_exporter": "python",
   "pygments_lexer": "ipython3",
   "version": "3.7.10"
  }
 },
 "nbformat": 4,
 "nbformat_minor": 5
}
